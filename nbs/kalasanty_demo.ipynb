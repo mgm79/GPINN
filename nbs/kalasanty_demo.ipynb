{
 "cells": [
  {
   "cell_type": "code",
   "execution_count": null,
   "metadata": {},
   "outputs": [],
   "source": [
    "import os\n",
    "\n",
    "from pybel import readfile\n",
    "from kalasanty.net import UNet\n",
    "from tfbio.data import Featurizer\n",
    "\n",
    "import logging\n",
    "logging.getLogger('tensorflow').setLevel(logging.FATAL)"
   ]
  },
  {
   "cell_type": "markdown",
   "metadata": {},
   "source": [
    "# Load trained model"
   ]
  },
  {
   "cell_type": "markdown",
   "metadata": {},
   "source": [
    "Do not modify this cell - model will not work with different parametrs than it was trained with.\n",
    "If you use the network trained by us, you must use the same `scale`, `max_dist` and `featurizer`."
   ]
  },
  {
   "cell_type": "code",
   "execution_count": null,
   "metadata": {},
   "outputs": [],
   "source": [
    "model_path = 'data/model_scpdb2017.hdf'\n",
    "\n",
    "model = UNet.load_model(model_path, scale=0.5, max_dist=35, featurizer=Featurizer(save_molecule_codes=False))"
   ]
  },
  {
   "cell_type": "markdown",
   "metadata": {},
   "source": [
    "# Load the protein"
   ]
  },
  {
   "cell_type": "markdown",
   "metadata": {},
   "source": [
    "You can ran Kalasanty on one of the provided examples (see below) or you can upload your molecule. For optimal performance, make sure that your molecule is protonized and charged.\n",
    "\n",
    "To upload your molecule, get back to the main window and click \"Upload\" in the top right part of the screen.\n",
    "\n",
    "Available test examples:"
   ]
  },
  {
   "cell_type": "code",
   "execution_count": null,
   "metadata": {},
   "outputs": [],
   "source": [
    "! ls tests/datasets/*/*/*protein.mol2"
   ]
  },
  {
   "cell_type": "markdown",
   "metadata": {},
   "source": [
    "Place path to the protein in the cell below. If you uploaded molecule in a different format than mol2, specify it as the first argument."
   ]
  },
  {
   "cell_type": "code",
   "execution_count": null,
   "metadata": {},
   "outputs": [],
   "source": [
    "mol = next(readfile('mol2', 'tests/datasets/scpdb/2ybu_8/protein.mol2'))"
   ]
  },
  {
   "cell_type": "markdown",
   "metadata": {},
   "source": [
    "# Predict pockets"
   ]
  },
  {
   "cell_type": "markdown",
   "metadata": {},
   "source": [
    "Save amino-acids forming the pockets as separate mol2 files"
   ]
  },
  {
   "cell_type": "code",
   "execution_count": null,
   "metadata": {},
   "outputs": [],
   "source": [
    "pockets = model.predict_pocket_atoms(mol)\n",
    "for i, pocket in enumerate(pockets):\n",
    "    pocket.write('mol2', 'pocket%i.mol2' % i, overwrite=True)"
   ]
  },
  {
   "cell_type": "markdown",
   "metadata": {},
   "source": [
    "Save pocket probability density as .cube file"
   ]
  },
  {
   "cell_type": "code",
   "execution_count": null,
   "metadata": {},
   "outputs": [],
   "source": [
    "density, origin, step = model.pocket_density_from_mol(mol)"
   ]
  },
  {
   "cell_type": "code",
   "execution_count": null,
   "metadata": {
    "scrolled": true
   },
   "outputs": [],
   "source": [
    "model.save_density_as_cube(density, origin, step, fname='pockets.cube')"
   ]
  },
  {
   "cell_type": "markdown",
   "metadata": {},
   "source": [
    "Get back to the main page and download `pocket*.mol2` files, `pockets.cube` file, and optionally input file you used (e.g. `tests/datasets/scpdb/2qfo_1/protein.mol2`) and open them in your favourite molecular modeling software."
   ]
  },
  {
   "cell_type": "code",
   "execution_count": null,
   "metadata": {},
   "outputs": [],
   "source": []
  }
 ],
 "metadata": {
  "kernelspec": {
   "display_name": "Python 3",
   "language": "python",
   "name": "python3"
  },
  "language_info": {
   "codemirror_mode": {
    "name": "ipython",
    "version": 3
   },
   "file_extension": ".py",
   "mimetype": "text/x-python",
   "name": "python",
   "nbconvert_exporter": "python",
   "pygments_lexer": "ipython3",
   "version": "3.6.4"
  }
 },
 "nbformat": 4,
 "nbformat_minor": 2
}
